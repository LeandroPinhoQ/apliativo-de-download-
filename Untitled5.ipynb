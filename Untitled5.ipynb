{
  "nbformat": 4,
  "nbformat_minor": 0,
  "metadata": {
    "colab": {
      "provenance": [],
      "authorship_tag": "ABX9TyMe3EvZoKqEx4piKjmT8fQV",
      "include_colab_link": true
    },
    "kernelspec": {
      "name": "python3",
      "display_name": "Python 3"
    },
    "language_info": {
      "name": "python"
    }
  },
  "cells": [
    {
      "cell_type": "markdown",
      "metadata": {
        "id": "view-in-github",
        "colab_type": "text"
      },
      "source": [
        "<a href=\"https://colab.research.google.com/github/LeandroPinhoQ/apliativo-de-download-/blob/main/Untitled5.ipynb\" target=\"_parent\"><img src=\"https://colab.research.google.com/assets/colab-badge.svg\" alt=\"Open In Colab\"/></a>"
      ]
    },
    {
      "cell_type": "code",
      "source": [
        "import os\n",
        "import sys\n",
        "import tkinter as tk\n",
        "from tkinter import messagebox, filedialog\n",
        "import youtube_dl\n",
        "import requests\n",
        "from PIL import Image\n",
        "from io import BytesIO\n",
        "\n",
        "# Function for downloading videos\n",
        "def download_video(url, resolution, format_):\n",
        "    ydl_opts = {\n",
        "        \"outtmpl\": f\"{os.path.basename(url)}_res_{resolution}_{format_}\",\n",
        "        \"format\": format_,\n",
        "        \"merge_output_format\": \"mp4\",\n",
        "        \"writethumbnail\": True,\n",
        "        \"nooverwrites\": True,\n",
        "    }\n",
        "\n",
        "    with youtube_dl.YoutubeDL(ydl_opts) as ydl:\n",
        "        try:\n",
        "            ydl.download([url])\n",
        "            messagebox.showinfo(\"Success\", \"Video downloaded successfully!\")\n",
        "        except Exception as e:\n",
        "            messagebox.showerror(\"Error\", f\"Error downloading video: {e}\")\n",
        "\n",
        "# Function for downloading images\n",
        "def download_image(url, format_):\n",
        "    response = requests.get(url)\n",
        "    img = Image.open(BytesIO(response.content))\n",
        "    img.save(f\"{os.path.basename(url)}.{format_}\", format_=format_)\n",
        "    messagebox.showinfo(\"Success\", \"Image downloaded successfully!\")\n",
        "\n",
        "# Function for getting user's choice of resolution and format\n",
        "def get_resolution_format():\n",
        "    formats = {\n",
        "        \"mp4\": {\"video\": [\"1080p\", \"720p\", \"480p\", \"360p\", \"240p\", \"144p\"]},\n",
        "        \"jpg\": {\"image\": [\"original\"]},\n",
        "        \"jpeg\": {\"image\": [\"original\"]},\n",
        "        \"png\": {\"image\": [\"original\"]},\n",
        "    }\n",
        "\n",
        "    resolutions = formats[selected_format][\"video\"] if selected_format in formats else formats[selected_format][\"image\"]\n",
        "\n",
        "    res_var = tk.StringVar()\n",
        "    res_var.set(resolutions[0])\n",
        "    format_var = tk.StringVar()\n",
        "    format_var.set(selected_format)\n",
        "\n",
        "    res_window = tk.Toplevel()\n",
        "    res_window.title(\"Choose Resolution and Format\")\n",
        "    tk.Label(res_window, text=\"Resolution:\").grid(row=0, column=0, padx=5, pady=5)\n",
        "    tk.Label(res_window, text=\"Format:\").grid(row=1, column=0, padx=5, pady=5)\n",
        "\n",
        "    tk.OptionMenu(res_window, res_var, *resolutions).grid(row=0, column=1, padx=5, pady=5)\n",
        "    tk.OptionMenu(res_window, format_var, *formats.keys()).grid(row=1, column=1, padx=5, pady=5)\n",
        "\n",
        "    tk.Button(res_window, text=\"Confirm\", command=lambda: download(url_entry.get(), res_var.get(), format_var.get(), res_window)).grid(\n",
        "        row=2, column=0, columnspan=2, padx=5, pady=5\n",
        "    )\n",
        "\n",
        "# Main download function\n",
        "def download(url, resolution, format_, window):\n",
        "    if \"youtube\" in url:\n",
        "        download_video(url, resolution, format_)\n",
        "    elif any(ext in url for ext in [\".jpg\", \".jpeg\", \".png\"]):\n",
        "        download_image(url, format_)"
      ],
      "metadata": {
        "id": "y-JmWR9Qdcw3"
      },
      "execution_count": 8,
      "outputs": []
    }
  ]
}